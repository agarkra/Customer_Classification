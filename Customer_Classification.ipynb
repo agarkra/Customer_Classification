{
  "nbformat": 4,
  "nbformat_minor": 0,
  "metadata": {
    "colab": {
      "name": "Customer_Classification",
      "provenance": []
    },
    "kernelspec": {
      "name": "python3",
      "display_name": "Python 3"
    }
  },
  "cells": [
    {
      "cell_type": "code",
      "metadata": {
        "id": "xLF8VqwQaDMZ",
        "colab_type": "code",
        "colab": {}
      },
      "source": [
        "import numpy as np\n",
        "import pandas as pd\n",
        "import matplotlib.pyplot as plt"
      ],
      "execution_count": 1,
      "outputs": []
    },
    {
      "cell_type": "code",
      "metadata": {
        "id": "gp8xvsJIaacf",
        "colab_type": "code",
        "colab": {}
      },
      "source": [
        "data = pd.read_csv(\"/content/Churn_Modelling.csv\")"
      ],
      "execution_count": 2,
      "outputs": []
    },
    {
      "cell_type": "code",
      "metadata": {
        "id": "SlfNQssUaxCA",
        "colab_type": "code",
        "colab": {
          "base_uri": "https://localhost:8080/",
          "height": 224
        },
        "outputId": "cf983c9c-360f-4515-c842-4e79ae790d19"
      },
      "source": [
        "data.head()"
      ],
      "execution_count": 3,
      "outputs": [
        {
          "output_type": "execute_result",
          "data": {
            "text/html": [
              "<div>\n",
              "<style scoped>\n",
              "    .dataframe tbody tr th:only-of-type {\n",
              "        vertical-align: middle;\n",
              "    }\n",
              "\n",
              "    .dataframe tbody tr th {\n",
              "        vertical-align: top;\n",
              "    }\n",
              "\n",
              "    .dataframe thead th {\n",
              "        text-align: right;\n",
              "    }\n",
              "</style>\n",
              "<table border=\"1\" class=\"dataframe\">\n",
              "  <thead>\n",
              "    <tr style=\"text-align: right;\">\n",
              "      <th></th>\n",
              "      <th>RowNumber</th>\n",
              "      <th>CustomerId</th>\n",
              "      <th>Surname</th>\n",
              "      <th>CreditScore</th>\n",
              "      <th>Geography</th>\n",
              "      <th>Gender</th>\n",
              "      <th>Age</th>\n",
              "      <th>Tenure</th>\n",
              "      <th>Balance</th>\n",
              "      <th>NumOfProducts</th>\n",
              "      <th>HasCrCard</th>\n",
              "      <th>IsActiveMember</th>\n",
              "      <th>EstimatedSalary</th>\n",
              "      <th>Exited</th>\n",
              "    </tr>\n",
              "  </thead>\n",
              "  <tbody>\n",
              "    <tr>\n",
              "      <th>0</th>\n",
              "      <td>1</td>\n",
              "      <td>15634602</td>\n",
              "      <td>Hargrave</td>\n",
              "      <td>619</td>\n",
              "      <td>France</td>\n",
              "      <td>Female</td>\n",
              "      <td>42</td>\n",
              "      <td>2</td>\n",
              "      <td>0.00</td>\n",
              "      <td>1</td>\n",
              "      <td>1</td>\n",
              "      <td>1</td>\n",
              "      <td>101348.88</td>\n",
              "      <td>1</td>\n",
              "    </tr>\n",
              "    <tr>\n",
              "      <th>1</th>\n",
              "      <td>2</td>\n",
              "      <td>15647311</td>\n",
              "      <td>Hill</td>\n",
              "      <td>608</td>\n",
              "      <td>Spain</td>\n",
              "      <td>Female</td>\n",
              "      <td>41</td>\n",
              "      <td>1</td>\n",
              "      <td>83807.86</td>\n",
              "      <td>1</td>\n",
              "      <td>0</td>\n",
              "      <td>1</td>\n",
              "      <td>112542.58</td>\n",
              "      <td>0</td>\n",
              "    </tr>\n",
              "    <tr>\n",
              "      <th>2</th>\n",
              "      <td>3</td>\n",
              "      <td>15619304</td>\n",
              "      <td>Onio</td>\n",
              "      <td>502</td>\n",
              "      <td>France</td>\n",
              "      <td>Female</td>\n",
              "      <td>42</td>\n",
              "      <td>8</td>\n",
              "      <td>159660.80</td>\n",
              "      <td>3</td>\n",
              "      <td>1</td>\n",
              "      <td>0</td>\n",
              "      <td>113931.57</td>\n",
              "      <td>1</td>\n",
              "    </tr>\n",
              "    <tr>\n",
              "      <th>3</th>\n",
              "      <td>4</td>\n",
              "      <td>15701354</td>\n",
              "      <td>Boni</td>\n",
              "      <td>699</td>\n",
              "      <td>France</td>\n",
              "      <td>Female</td>\n",
              "      <td>39</td>\n",
              "      <td>1</td>\n",
              "      <td>0.00</td>\n",
              "      <td>2</td>\n",
              "      <td>0</td>\n",
              "      <td>0</td>\n",
              "      <td>93826.63</td>\n",
              "      <td>0</td>\n",
              "    </tr>\n",
              "    <tr>\n",
              "      <th>4</th>\n",
              "      <td>5</td>\n",
              "      <td>15737888</td>\n",
              "      <td>Mitchell</td>\n",
              "      <td>850</td>\n",
              "      <td>Spain</td>\n",
              "      <td>Female</td>\n",
              "      <td>43</td>\n",
              "      <td>2</td>\n",
              "      <td>125510.82</td>\n",
              "      <td>1</td>\n",
              "      <td>1</td>\n",
              "      <td>1</td>\n",
              "      <td>79084.10</td>\n",
              "      <td>0</td>\n",
              "    </tr>\n",
              "  </tbody>\n",
              "</table>\n",
              "</div>"
            ],
            "text/plain": [
              "   RowNumber  CustomerId   Surname  ...  IsActiveMember EstimatedSalary Exited\n",
              "0          1    15634602  Hargrave  ...               1       101348.88      1\n",
              "1          2    15647311      Hill  ...               1       112542.58      0\n",
              "2          3    15619304      Onio  ...               0       113931.57      1\n",
              "3          4    15701354      Boni  ...               0        93826.63      0\n",
              "4          5    15737888  Mitchell  ...               1        79084.10      0\n",
              "\n",
              "[5 rows x 14 columns]"
            ]
          },
          "metadata": {
            "tags": []
          },
          "execution_count": 3
        }
      ]
    },
    {
      "cell_type": "code",
      "metadata": {
        "id": "7rP-d2Mwa5qb",
        "colab_type": "code",
        "colab": {}
      },
      "source": [
        "#providing input features and target attribute\n",
        "X = data.iloc[:, 3:13]\n",
        "Y = data.iloc[:,13]"
      ],
      "execution_count": 4,
      "outputs": []
    },
    {
      "cell_type": "code",
      "metadata": {
        "id": "sqxfSv6ybgfz",
        "colab_type": "code",
        "colab": {}
      },
      "source": [
        "#As Georgaphy and Gender are categorical features lets convert that into dummy variable\n",
        "georgaphy =pd.get_dummies(X['Geography'],drop_first = True)\n",
        "gender = pd.get_dummies(X['Gender'],drop_first = True)"
      ],
      "execution_count": 5,
      "outputs": []
    },
    {
      "cell_type": "code",
      "metadata": {
        "id": "7AdITstXcrRX",
        "colab_type": "code",
        "colab": {}
      },
      "source": [
        "#Now combining the dummy geography and gender with the input feature we will use concat\n",
        "X = pd.concat([X,georgaphy,gender], axis = 1)"
      ],
      "execution_count": 6,
      "outputs": []
    },
    {
      "cell_type": "code",
      "metadata": {
        "id": "H-v6GnE2dRBL",
        "colab_type": "code",
        "colab": {}
      },
      "source": [
        "#Now as we have combined the geography and gender lets drop the geography and gender which was already present in the dataset\n",
        "X = X.drop(['Geography','Gender'], axis = 1)"
      ],
      "execution_count": 7,
      "outputs": []
    },
    {
      "cell_type": "code",
      "metadata": {
        "id": "XaLHJrnLeFhY",
        "colab_type": "code",
        "colab": {}
      },
      "source": [
        "#importing sklearn to split the data in train test\n",
        "from sklearn.model_selection import train_test_split\n",
        "X_train, X_test, y_train, y_test = train_test_split(X, Y, test_size = 0.2, random_state=0)"
      ],
      "execution_count": 8,
      "outputs": []
    },
    {
      "cell_type": "code",
      "metadata": {
        "id": "pCT2bY1We0Ce",
        "colab_type": "code",
        "colab": {}
      },
      "source": [
        "#Now we will do feature scaling inorder to convert our data into standard form which we help in fast processing\n",
        "from sklearn.preprocessing import StandardScaler\n",
        "sc = StandardScaler()\n",
        "X_train = sc.fit_transform(X_train)\n",
        "Y_train = sc.fit_transform(X_test)"
      ],
      "execution_count": 9,
      "outputs": []
    },
    {
      "cell_type": "code",
      "metadata": {
        "id": "YkdQ3Tj6fySk",
        "colab_type": "code",
        "colab": {}
      },
      "source": [
        "# Now lets create our simple deep learning model\n",
        "import keras\n",
        "from keras.models import Sequential\n",
        "from keras.layers import Dense\n",
        "from keras.layers import LeakyReLU,PReLU,ELU\n",
        "from keras.layers import Dropout"
      ],
      "execution_count": 10,
      "outputs": []
    },
    {
      "cell_type": "code",
      "metadata": {
        "id": "QmAfYhlnguUP",
        "colab_type": "code",
        "colab": {
          "base_uri": "https://localhost:8080/",
          "height": 1000
        },
        "outputId": "ccdadaea-ffcc-4d08-8cd5-84a2f52b7365"
      },
      "source": [
        "classifier = Sequential()\n",
        "# Adding the input layer and the first hidden layer\n",
        "classifier.add(Dense( 10, kernel_initializer = 'he_uniform',activation='relu',input_dim = 11))\n",
        "# Adding the second hidden layer\n",
        "classifier.add(Dense(6, kernel_initializer = 'he_uniform',activation='relu'))\n",
        "# Adding the output layer\n",
        "classifier.add(Dense(1, kernel_initializer = 'glorot_uniform', activation = 'sigmoid'))\n",
        "# Compiling the ANN\n",
        "classifier.compile(optimizer = 'Adamax', loss = 'binary_crossentropy', metrics = ['accuracy'])\n",
        "# Fitting the ANN to the Training set\n",
        "model_history=classifier.fit(X_train, y_train,validation_split=0.33, batch_size = 10, epochs = 100)"
      ],
      "execution_count": 30,
      "outputs": [
        {
          "output_type": "stream",
          "text": [
            "Epoch 1/100\n",
            "536/536 [==============================] - 1s 2ms/step - loss: 0.5556 - accuracy: 0.7848 - val_loss: 0.5103 - val_accuracy: 0.7955\n",
            "Epoch 2/100\n",
            "536/536 [==============================] - 1s 1ms/step - loss: 0.4968 - accuracy: 0.7962 - val_loss: 0.4830 - val_accuracy: 0.7955\n",
            "Epoch 3/100\n",
            "536/536 [==============================] - 1s 1ms/step - loss: 0.4756 - accuracy: 0.7962 - val_loss: 0.4707 - val_accuracy: 0.7955\n",
            "Epoch 4/100\n",
            "536/536 [==============================] - 1s 1ms/step - loss: 0.4634 - accuracy: 0.7962 - val_loss: 0.4623 - val_accuracy: 0.7955\n",
            "Epoch 5/100\n",
            "536/536 [==============================] - 1s 1ms/step - loss: 0.4550 - accuracy: 0.7962 - val_loss: 0.4560 - val_accuracy: 0.7955\n",
            "Epoch 6/100\n",
            "536/536 [==============================] - 1s 1ms/step - loss: 0.4487 - accuracy: 0.7962 - val_loss: 0.4509 - val_accuracy: 0.7955\n",
            "Epoch 7/100\n",
            "536/536 [==============================] - 1s 1ms/step - loss: 0.4435 - accuracy: 0.7962 - val_loss: 0.4463 - val_accuracy: 0.7955\n",
            "Epoch 8/100\n",
            "536/536 [==============================] - 1s 1ms/step - loss: 0.4394 - accuracy: 0.7962 - val_loss: 0.4427 - val_accuracy: 0.7955\n",
            "Epoch 9/100\n",
            "536/536 [==============================] - 1s 1ms/step - loss: 0.4359 - accuracy: 0.7962 - val_loss: 0.4398 - val_accuracy: 0.7955\n",
            "Epoch 10/100\n",
            "536/536 [==============================] - 1s 1ms/step - loss: 0.4330 - accuracy: 0.7962 - val_loss: 0.4371 - val_accuracy: 0.7955\n",
            "Epoch 11/100\n",
            "536/536 [==============================] - 1s 1ms/step - loss: 0.4305 - accuracy: 0.7966 - val_loss: 0.4349 - val_accuracy: 0.7948\n",
            "Epoch 12/100\n",
            "536/536 [==============================] - 1s 1ms/step - loss: 0.4283 - accuracy: 0.7966 - val_loss: 0.4329 - val_accuracy: 0.7952\n",
            "Epoch 13/100\n",
            "536/536 [==============================] - 1s 1ms/step - loss: 0.4263 - accuracy: 0.7970 - val_loss: 0.4311 - val_accuracy: 0.7959\n",
            "Epoch 14/100\n",
            "536/536 [==============================] - 1s 1ms/step - loss: 0.4244 - accuracy: 0.8022 - val_loss: 0.4295 - val_accuracy: 0.8039\n",
            "Epoch 15/100\n",
            "536/536 [==============================] - 1s 1ms/step - loss: 0.4226 - accuracy: 0.8056 - val_loss: 0.4281 - val_accuracy: 0.8046\n",
            "Epoch 16/100\n",
            "536/536 [==============================] - 1s 1ms/step - loss: 0.4211 - accuracy: 0.8063 - val_loss: 0.4265 - val_accuracy: 0.8069\n",
            "Epoch 17/100\n",
            "536/536 [==============================] - 1s 1ms/step - loss: 0.4195 - accuracy: 0.8121 - val_loss: 0.4251 - val_accuracy: 0.8095\n",
            "Epoch 18/100\n",
            "536/536 [==============================] - 1s 1ms/step - loss: 0.4180 - accuracy: 0.8168 - val_loss: 0.4237 - val_accuracy: 0.8111\n",
            "Epoch 19/100\n",
            "536/536 [==============================] - 1s 1ms/step - loss: 0.4165 - accuracy: 0.8192 - val_loss: 0.4226 - val_accuracy: 0.8145\n",
            "Epoch 20/100\n",
            "536/536 [==============================] - 1s 1ms/step - loss: 0.4152 - accuracy: 0.8192 - val_loss: 0.4214 - val_accuracy: 0.8148\n",
            "Epoch 21/100\n",
            "536/536 [==============================] - 1s 1ms/step - loss: 0.4138 - accuracy: 0.8210 - val_loss: 0.4201 - val_accuracy: 0.8194\n",
            "Epoch 22/100\n",
            "536/536 [==============================] - 1s 1ms/step - loss: 0.4123 - accuracy: 0.8233 - val_loss: 0.4188 - val_accuracy: 0.8201\n",
            "Epoch 23/100\n",
            "536/536 [==============================] - 1s 1ms/step - loss: 0.4107 - accuracy: 0.8237 - val_loss: 0.4178 - val_accuracy: 0.8190\n",
            "Epoch 24/100\n",
            "536/536 [==============================] - 1s 1ms/step - loss: 0.4093 - accuracy: 0.8244 - val_loss: 0.4162 - val_accuracy: 0.8232\n",
            "Epoch 25/100\n",
            "536/536 [==============================] - 1s 1ms/step - loss: 0.4077 - accuracy: 0.8257 - val_loss: 0.4151 - val_accuracy: 0.8228\n",
            "Epoch 26/100\n",
            "536/536 [==============================] - 1s 1ms/step - loss: 0.4061 - accuracy: 0.8261 - val_loss: 0.4138 - val_accuracy: 0.8224\n",
            "Epoch 27/100\n",
            "536/536 [==============================] - 1s 1ms/step - loss: 0.4044 - accuracy: 0.8300 - val_loss: 0.4124 - val_accuracy: 0.8232\n",
            "Epoch 28/100\n",
            "536/536 [==============================] - 1s 1ms/step - loss: 0.4028 - accuracy: 0.8313 - val_loss: 0.4109 - val_accuracy: 0.8232\n",
            "Epoch 29/100\n",
            "536/536 [==============================] - 1s 1ms/step - loss: 0.4007 - accuracy: 0.8315 - val_loss: 0.4093 - val_accuracy: 0.8239\n",
            "Epoch 30/100\n",
            "536/536 [==============================] - 1s 1ms/step - loss: 0.3988 - accuracy: 0.8328 - val_loss: 0.4077 - val_accuracy: 0.8247\n",
            "Epoch 31/100\n",
            "536/536 [==============================] - 1s 1ms/step - loss: 0.3969 - accuracy: 0.8347 - val_loss: 0.4063 - val_accuracy: 0.8258\n",
            "Epoch 32/100\n",
            "536/536 [==============================] - 1s 1ms/step - loss: 0.3948 - accuracy: 0.8339 - val_loss: 0.4042 - val_accuracy: 0.8281\n",
            "Epoch 33/100\n",
            "536/536 [==============================] - 1s 1ms/step - loss: 0.3926 - accuracy: 0.8343 - val_loss: 0.4025 - val_accuracy: 0.8292\n",
            "Epoch 34/100\n",
            "536/536 [==============================] - 1s 1ms/step - loss: 0.3903 - accuracy: 0.8369 - val_loss: 0.4008 - val_accuracy: 0.8296\n",
            "Epoch 35/100\n",
            "536/536 [==============================] - 1s 1ms/step - loss: 0.3882 - accuracy: 0.8380 - val_loss: 0.3989 - val_accuracy: 0.8296\n",
            "Epoch 36/100\n",
            "536/536 [==============================] - 1s 1ms/step - loss: 0.3860 - accuracy: 0.8393 - val_loss: 0.3972 - val_accuracy: 0.8319\n",
            "Epoch 37/100\n",
            "536/536 [==============================] - 1s 1ms/step - loss: 0.3838 - accuracy: 0.8412 - val_loss: 0.3956 - val_accuracy: 0.8330\n",
            "Epoch 38/100\n",
            "536/536 [==============================] - 1s 1ms/step - loss: 0.3816 - accuracy: 0.8429 - val_loss: 0.3936 - val_accuracy: 0.8334\n",
            "Epoch 39/100\n",
            "536/536 [==============================] - 1s 1ms/step - loss: 0.3792 - accuracy: 0.8447 - val_loss: 0.3921 - val_accuracy: 0.8357\n",
            "Epoch 40/100\n",
            "536/536 [==============================] - 1s 1ms/step - loss: 0.3769 - accuracy: 0.8447 - val_loss: 0.3907 - val_accuracy: 0.8360\n",
            "Epoch 41/100\n",
            "536/536 [==============================] - 1s 1ms/step - loss: 0.3745 - accuracy: 0.8472 - val_loss: 0.3890 - val_accuracy: 0.8379\n",
            "Epoch 42/100\n",
            "536/536 [==============================] - 1s 1ms/step - loss: 0.3724 - accuracy: 0.8461 - val_loss: 0.3876 - val_accuracy: 0.8379\n",
            "Epoch 43/100\n",
            "536/536 [==============================] - 1s 1ms/step - loss: 0.3704 - accuracy: 0.8462 - val_loss: 0.3862 - val_accuracy: 0.8376\n",
            "Epoch 44/100\n",
            "536/536 [==============================] - 1s 1ms/step - loss: 0.3684 - accuracy: 0.8472 - val_loss: 0.3847 - val_accuracy: 0.8379\n",
            "Epoch 45/100\n",
            "536/536 [==============================] - 1s 1ms/step - loss: 0.3666 - accuracy: 0.8490 - val_loss: 0.3837 - val_accuracy: 0.8372\n",
            "Epoch 46/100\n",
            "536/536 [==============================] - 1s 1ms/step - loss: 0.3647 - accuracy: 0.8494 - val_loss: 0.3822 - val_accuracy: 0.8391\n",
            "Epoch 47/100\n",
            "536/536 [==============================] - 1s 1ms/step - loss: 0.3629 - accuracy: 0.8511 - val_loss: 0.3814 - val_accuracy: 0.8398\n",
            "Epoch 48/100\n",
            "536/536 [==============================] - 1s 1ms/step - loss: 0.3615 - accuracy: 0.8524 - val_loss: 0.3801 - val_accuracy: 0.8398\n",
            "Epoch 49/100\n",
            "536/536 [==============================] - 1s 1ms/step - loss: 0.3602 - accuracy: 0.8526 - val_loss: 0.3792 - val_accuracy: 0.8410\n",
            "Epoch 50/100\n",
            "536/536 [==============================] - 1s 2ms/step - loss: 0.3589 - accuracy: 0.8539 - val_loss: 0.3784 - val_accuracy: 0.8402\n",
            "Epoch 51/100\n",
            "536/536 [==============================] - 1s 1ms/step - loss: 0.3576 - accuracy: 0.8528 - val_loss: 0.3776 - val_accuracy: 0.8417\n",
            "Epoch 52/100\n",
            "536/536 [==============================] - 1s 1ms/step - loss: 0.3564 - accuracy: 0.8543 - val_loss: 0.3771 - val_accuracy: 0.8410\n",
            "Epoch 53/100\n",
            "536/536 [==============================] - 1s 1ms/step - loss: 0.3553 - accuracy: 0.8539 - val_loss: 0.3764 - val_accuracy: 0.8421\n",
            "Epoch 54/100\n",
            "536/536 [==============================] - 1s 1ms/step - loss: 0.3542 - accuracy: 0.8545 - val_loss: 0.3756 - val_accuracy: 0.8429\n",
            "Epoch 55/100\n",
            "536/536 [==============================] - 1s 1ms/step - loss: 0.3533 - accuracy: 0.8561 - val_loss: 0.3753 - val_accuracy: 0.8413\n",
            "Epoch 56/100\n",
            "536/536 [==============================] - 1s 1ms/step - loss: 0.3523 - accuracy: 0.8559 - val_loss: 0.3749 - val_accuracy: 0.8417\n",
            "Epoch 57/100\n",
            "536/536 [==============================] - 1s 1ms/step - loss: 0.3515 - accuracy: 0.8561 - val_loss: 0.3743 - val_accuracy: 0.8429\n",
            "Epoch 58/100\n",
            "536/536 [==============================] - 1s 1ms/step - loss: 0.3506 - accuracy: 0.8558 - val_loss: 0.3737 - val_accuracy: 0.8455\n",
            "Epoch 59/100\n",
            "536/536 [==============================] - 1s 1ms/step - loss: 0.3500 - accuracy: 0.8558 - val_loss: 0.3734 - val_accuracy: 0.8455\n",
            "Epoch 60/100\n",
            "536/536 [==============================] - 1s 1ms/step - loss: 0.3492 - accuracy: 0.8563 - val_loss: 0.3729 - val_accuracy: 0.8482\n",
            "Epoch 61/100\n",
            "536/536 [==============================] - 1s 1ms/step - loss: 0.3485 - accuracy: 0.8584 - val_loss: 0.3726 - val_accuracy: 0.8474\n",
            "Epoch 62/100\n",
            "536/536 [==============================] - 1s 1ms/step - loss: 0.3479 - accuracy: 0.8589 - val_loss: 0.3725 - val_accuracy: 0.8493\n",
            "Epoch 63/100\n",
            "536/536 [==============================] - 1s 1ms/step - loss: 0.3472 - accuracy: 0.8576 - val_loss: 0.3721 - val_accuracy: 0.8508\n",
            "Epoch 64/100\n",
            "536/536 [==============================] - 1s 1ms/step - loss: 0.3464 - accuracy: 0.8584 - val_loss: 0.3716 - val_accuracy: 0.8523\n",
            "Epoch 65/100\n",
            "536/536 [==============================] - 1s 1ms/step - loss: 0.3458 - accuracy: 0.8600 - val_loss: 0.3717 - val_accuracy: 0.8512\n",
            "Epoch 66/100\n",
            "536/536 [==============================] - 1s 1ms/step - loss: 0.3452 - accuracy: 0.8586 - val_loss: 0.3710 - val_accuracy: 0.8516\n",
            "Epoch 67/100\n",
            "536/536 [==============================] - 1s 1ms/step - loss: 0.3446 - accuracy: 0.8593 - val_loss: 0.3708 - val_accuracy: 0.8508\n",
            "Epoch 68/100\n",
            "536/536 [==============================] - 1s 1ms/step - loss: 0.3443 - accuracy: 0.8604 - val_loss: 0.3706 - val_accuracy: 0.8508\n",
            "Epoch 69/100\n",
            "536/536 [==============================] - 1s 1ms/step - loss: 0.3437 - accuracy: 0.8610 - val_loss: 0.3701 - val_accuracy: 0.8523\n",
            "Epoch 70/100\n",
            "536/536 [==============================] - 1s 1ms/step - loss: 0.3433 - accuracy: 0.8604 - val_loss: 0.3701 - val_accuracy: 0.8512\n",
            "Epoch 71/100\n",
            "536/536 [==============================] - 1s 1ms/step - loss: 0.3427 - accuracy: 0.8604 - val_loss: 0.3695 - val_accuracy: 0.8538\n",
            "Epoch 72/100\n",
            "536/536 [==============================] - 1s 1ms/step - loss: 0.3425 - accuracy: 0.8612 - val_loss: 0.3694 - val_accuracy: 0.8527\n",
            "Epoch 73/100\n",
            "536/536 [==============================] - 1s 1ms/step - loss: 0.3421 - accuracy: 0.8610 - val_loss: 0.3693 - val_accuracy: 0.8519\n",
            "Epoch 74/100\n",
            "536/536 [==============================] - 1s 1ms/step - loss: 0.3418 - accuracy: 0.8619 - val_loss: 0.3689 - val_accuracy: 0.8527\n",
            "Epoch 75/100\n",
            "536/536 [==============================] - 1s 1ms/step - loss: 0.3414 - accuracy: 0.8612 - val_loss: 0.3687 - val_accuracy: 0.8527\n",
            "Epoch 76/100\n",
            "536/536 [==============================] - 1s 1ms/step - loss: 0.3409 - accuracy: 0.8617 - val_loss: 0.3685 - val_accuracy: 0.8531\n",
            "Epoch 77/100\n",
            "536/536 [==============================] - 1s 1ms/step - loss: 0.3407 - accuracy: 0.8612 - val_loss: 0.3683 - val_accuracy: 0.8523\n",
            "Epoch 78/100\n",
            "536/536 [==============================] - 1s 1ms/step - loss: 0.3402 - accuracy: 0.8625 - val_loss: 0.3684 - val_accuracy: 0.8531\n",
            "Epoch 79/100\n",
            "536/536 [==============================] - 1s 1ms/step - loss: 0.3400 - accuracy: 0.8627 - val_loss: 0.3678 - val_accuracy: 0.8546\n",
            "Epoch 80/100\n",
            "536/536 [==============================] - 1s 1ms/step - loss: 0.3398 - accuracy: 0.8630 - val_loss: 0.3678 - val_accuracy: 0.8557\n",
            "Epoch 81/100\n",
            "536/536 [==============================] - 1s 1ms/step - loss: 0.3394 - accuracy: 0.8623 - val_loss: 0.3677 - val_accuracy: 0.8546\n",
            "Epoch 82/100\n",
            "536/536 [==============================] - 1s 1ms/step - loss: 0.3393 - accuracy: 0.8621 - val_loss: 0.3674 - val_accuracy: 0.8546\n",
            "Epoch 83/100\n",
            "536/536 [==============================] - 1s 1ms/step - loss: 0.3385 - accuracy: 0.8625 - val_loss: 0.3680 - val_accuracy: 0.8527\n",
            "Epoch 84/100\n",
            "536/536 [==============================] - 1s 1ms/step - loss: 0.3387 - accuracy: 0.8621 - val_loss: 0.3669 - val_accuracy: 0.8538\n",
            "Epoch 85/100\n",
            "536/536 [==============================] - 1s 1ms/step - loss: 0.3383 - accuracy: 0.8630 - val_loss: 0.3670 - val_accuracy: 0.8538\n",
            "Epoch 86/100\n",
            "536/536 [==============================] - 1s 1ms/step - loss: 0.3381 - accuracy: 0.8628 - val_loss: 0.3669 - val_accuracy: 0.8535\n",
            "Epoch 87/100\n",
            "536/536 [==============================] - 1s 1ms/step - loss: 0.3378 - accuracy: 0.8619 - val_loss: 0.3664 - val_accuracy: 0.8542\n",
            "Epoch 88/100\n",
            "536/536 [==============================] - 1s 1ms/step - loss: 0.3376 - accuracy: 0.8632 - val_loss: 0.3663 - val_accuracy: 0.8538\n",
            "Epoch 89/100\n",
            "536/536 [==============================] - 1s 1ms/step - loss: 0.3375 - accuracy: 0.8628 - val_loss: 0.3662 - val_accuracy: 0.8531\n",
            "Epoch 90/100\n",
            "536/536 [==============================] - 1s 1ms/step - loss: 0.3370 - accuracy: 0.8638 - val_loss: 0.3658 - val_accuracy: 0.8550\n",
            "Epoch 91/100\n",
            "536/536 [==============================] - 1s 1ms/step - loss: 0.3370 - accuracy: 0.8647 - val_loss: 0.3657 - val_accuracy: 0.8542\n",
            "Epoch 92/100\n",
            "536/536 [==============================] - 1s 1ms/step - loss: 0.3369 - accuracy: 0.8642 - val_loss: 0.3655 - val_accuracy: 0.8546\n",
            "Epoch 93/100\n",
            "536/536 [==============================] - 1s 1ms/step - loss: 0.3364 - accuracy: 0.8643 - val_loss: 0.3657 - val_accuracy: 0.8535\n",
            "Epoch 94/100\n",
            "536/536 [==============================] - 1s 1ms/step - loss: 0.3364 - accuracy: 0.8634 - val_loss: 0.3652 - val_accuracy: 0.8554\n",
            "Epoch 95/100\n",
            "536/536 [==============================] - 1s 1ms/step - loss: 0.3362 - accuracy: 0.8632 - val_loss: 0.3652 - val_accuracy: 0.8557\n",
            "Epoch 96/100\n",
            "536/536 [==============================] - 1s 1ms/step - loss: 0.3360 - accuracy: 0.8638 - val_loss: 0.3651 - val_accuracy: 0.8554\n",
            "Epoch 97/100\n",
            "536/536 [==============================] - 1s 1ms/step - loss: 0.3357 - accuracy: 0.8647 - val_loss: 0.3647 - val_accuracy: 0.8557\n",
            "Epoch 98/100\n",
            "536/536 [==============================] - 1s 1ms/step - loss: 0.3356 - accuracy: 0.8645 - val_loss: 0.3647 - val_accuracy: 0.8565\n",
            "Epoch 99/100\n",
            "536/536 [==============================] - 1s 1ms/step - loss: 0.3354 - accuracy: 0.8647 - val_loss: 0.3648 - val_accuracy: 0.8557\n",
            "Epoch 100/100\n",
            "536/536 [==============================] - 1s 1ms/step - loss: 0.3354 - accuracy: 0.8656 - val_loss: 0.3646 - val_accuracy: 0.8554\n"
          ],
          "name": "stdout"
        }
      ]
    },
    {
      "cell_type": "code",
      "metadata": {
        "id": "MlayZpZHlNIG",
        "colab_type": "code",
        "colab": {
          "base_uri": "https://localhost:8080/",
          "height": 255
        },
        "outputId": "4711012b-4fa2-4332-c290-94bbcbe08caf"
      },
      "source": [
        "#Inorder to see the complete summary of our created model\n",
        "classifier.summary()"
      ],
      "execution_count": 32,
      "outputs": [
        {
          "output_type": "stream",
          "text": [
            "Model: \"sequential_2\"\n",
            "_________________________________________________________________\n",
            "Layer (type)                 Output Shape              Param #   \n",
            "=================================================================\n",
            "dense_6 (Dense)              (None, 10)                120       \n",
            "_________________________________________________________________\n",
            "dense_7 (Dense)              (None, 6)                 66        \n",
            "_________________________________________________________________\n",
            "dense_8 (Dense)              (None, 1)                 7         \n",
            "=================================================================\n",
            "Total params: 193\n",
            "Trainable params: 193\n",
            "Non-trainable params: 0\n",
            "_________________________________________________________________\n"
          ],
          "name": "stdout"
        }
      ]
    },
    {
      "cell_type": "code",
      "metadata": {
        "id": "rMhNEJvDmnz2",
        "colab_type": "code",
        "colab": {
          "base_uri": "https://localhost:8080/",
          "height": 295
        },
        "outputId": "35e028da-e888-4fca-b4f3-9a9b40f5ad17"
      },
      "source": [
        "#Now in order to see the visualize a graph to check the accuracy.\n",
        "plt.plot(model_history.history['accuracy'])\n",
        "plt.plot(model_history.history['val_accuracy'])\n",
        "plt.title('model accuracy')\n",
        "plt.ylabel('accuracy')\n",
        "plt.xlabel('epoch')\n",
        "plt.legend(['train', 'test'], loc='upper left')\n",
        "plt.show()"
      ],
      "execution_count": 33,
      "outputs": [
        {
          "output_type": "display_data",
          "data": {
            "image/png": "[encoded data removed]",
            "text/plain": [
              "<Figure size 432x288 with 1 Axes>"
            ]
          },
          "metadata": {
            "tags": [],
            "needs_background": "light"
          }
        }
      ]
    },
    {
      "cell_type": "code",
      "metadata": {
        "id": "cEKbTtx0nGr-",
        "colab_type": "code",
        "colab": {
          "base_uri": "https://localhost:8080/",
          "height": 295
        },
        "outputId": "d476fd2e-7211-4832-ea7d-44fa249141f5"
      },
      "source": [
        "#Now in order to see the visualize a graph to check the loss\n",
        "plt.plot(model_history.history['loss'])\n",
        "plt.plot(model_history.history['val_loss'])\n",
        "plt.title('model loss')\n",
        "plt.ylabel('loss')\n",
        "plt.xlabel('epoch')\n",
        "plt.legend(['train', 'test'], loc='upper left')\n",
        "plt.show()"
      ],
      "execution_count": 34,
      "outputs": [
        {
          "output_type": "display_data",
          "data": {
            "image/png": "[encoded data removed]",
            "text/plain": [
              "<Figure size 432x288 with 1 Axes>"
            ]
          },
          "metadata": {
            "tags": [],
            "needs_background": "light"
          }
        }
      ]
    },
    {
      "cell_type": "code",
      "metadata": {
        "id": "9fwKC5sfnfPn",
        "colab_type": "code",
        "colab": {
          "base_uri": "https://localhost:8080/",
          "height": 68
        },
        "outputId": "f6201201-7aaa-4c83-d376-fab65430cd86"
      },
      "source": [
        "# Making the predictions and evaluating the model\n",
        "# Predicting the Test set results\n",
        "y_pred = classifier.predict(X_test)\n",
        "y_pred = (y_pred > 0.5)\n",
        "# Making the Confusion Matrix\n",
        "from sklearn.metrics import confusion_matrix\n",
        "cm = confusion_matrix(y_test, y_pred)\n",
        "print(cm)\n",
        "# Calculate the Accuracy\n",
        "from sklearn.metrics import accuracy_score\n",
        "score=accuracy_score(y_pred,y_test)\n",
        "print(\"The accuracy of this model is {}\".format(score * 100))"
      ],
      "execution_count": 37,
      "outputs": [
        {
          "output_type": "stream",
          "text": [
            "[[1595    0]\n",
            " [ 405    0]]\n",
            "The accuracy of this model is 79.75\n"
          ],
          "name": "stdout"
        }
      ]
    }
  ]
}